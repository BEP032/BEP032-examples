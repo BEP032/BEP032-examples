{
  "cells": [
    {
      "cell_type": "code",
      "execution_count": null,
      "metadata": {
        "collapsed": false
      },
      "outputs": [],
      "source": [
        "%matplotlib inline"
      ]
    },
    {
      "cell_type": "markdown",
      "metadata": {},
      "source": [
        "\n# Spikesorting with SpikeInterface\n\nOne of the most common processing steps for neuronal data is the identification\nof spiking activity of individual neurons. [SpikeInterface](https://github.com/Spikeinterface/Spikeinterface)\nis a python packages that provides a common interface to multiple different software tools designed\nfor this task. Here we demonstrate how to preprocess a BIDS-ephys compatible dataset using SpikeInterface\nand visualize the result. This script is accessible at :download:`source Python script <plot_spikesorting.py>`.\n"
      ]
    },
    {
      "cell_type": "markdown",
      "metadata": {},
      "source": [
        "First we import SpikeInterface and locate the dataset\n\n"
      ]
    },
    {
      "cell_type": "code",
      "execution_count": null,
      "metadata": {
        "collapsed": false
      },
      "outputs": [],
      "source": [
        "import matplotlib.pyplot as plt\nimport spikeinterface.full as si\n\nsession_folder = '../ephys_nix/sub-i/ses-140703/ephys'"
      ]
    },
    {
      "cell_type": "markdown",
      "metadata": {},
      "source": [
        "SpikeInterface provides a convenience function for loading a BIDS-ephys compatible dataset.\nThis dataset contains multiple streams (data recorded at different sampling rates).\nSpikeInterface represents each of those streams in a separate `recording` object.\n\n"
      ]
    },
    {
      "cell_type": "code",
      "execution_count": null,
      "metadata": {
        "collapsed": false
      },
      "outputs": [],
      "source": [
        "recordings = si.read_bids(session_folder)"
      ]
    },
    {
      "cell_type": "markdown",
      "metadata": {},
      "source": [
        "We select the most `raw` data stream by selecting the one with the highest temporal resolution, i.e. sampling frequency.\n\n"
      ]
    },
    {
      "cell_type": "code",
      "execution_count": null,
      "metadata": {
        "collapsed": false
      },
      "outputs": [],
      "source": [
        "recording_raw = recordings[0]\nfor rec in recordings[1:]:\n    if rec.get_sampling_frequency() > recording_raw.get_sampling_frequency():\n        recording_raw = rec"
      ]
    },
    {
      "cell_type": "markdown",
      "metadata": {},
      "source": [
        "By default the software packages to be used for spike sorting needs to be installed locally to\nperform the sorting. However, the installation of these specialized software tools can be\ncomplicated and inconvenient due to specific system requirement. To simplify the usage of\ndifferent spike sorting packages SpikeInterface provides a set of containers with preinstalled\nsorting packages. The list of available containers and their versions is available on\n[DockerHub](<TODO: Add link here>).\n\nHere we run the sorting package `ironclust` using the containerized version. To run the container we are using `singularity`, alternativly SpikeInterface also supports running contains\nin `docker`.\n\n"
      ]
    },
    {
      "cell_type": "code",
      "execution_count": null,
      "metadata": {
        "collapsed": false
      },
      "outputs": [],
      "source": [
        "sorting = si.run_sorter_container(sorter_name='ironclust', recording=recording_raw,\n                                  mode='singularity',\n                                  container_image='spikeinterface/ironclust-compiled-base',\n                                  output_folder='ironclust_output',\n                                  with_output=True, fGpu=False)\nprint(sorting)"
      ]
    },
    {
      "cell_type": "markdown",
      "metadata": {},
      "source": [
        "Automatic spike sorting always requires manual inspection the results to confirm the sorting\nalgorithm and the applied parameters were suited for the dataset. Here we visualize the extracted\nspike times for each unit (neuron) in a raster plot.\n\n"
      ]
    },
    {
      "cell_type": "code",
      "execution_count": null,
      "metadata": {
        "collapsed": false
      },
      "outputs": [],
      "source": [
        "si.plot_rasters(sorting)\n\nplt.show()"
      ]
    },
    {
      "cell_type": "markdown",
      "metadata": {},
      "source": [
        "We can extract the waveforms on which the sorting is based. To align the waveforms we remove the\nlow frequency components before extracting the waveform snippets from the raw signal.\n\n"
      ]
    },
    {
      "cell_type": "code",
      "execution_count": null,
      "metadata": {
        "collapsed": false
      },
      "outputs": [],
      "source": [
        "recording_filtered = si.highpass_filter(recording_raw, freq_min=300.)  # frequencies are provided in Hz\nrecording_filtered.annotate(is_filtered=True)\n\nwaveforms = si.extract_waveforms(recording_filtered, sorting, './ironclust_waveform_output',\n                                 overwrite=True, ms_before=1, ms_after=2.)\n\nsi.plot_unit_waveforms(waveforms)\n\nplt.show()"
      ]
    }
  ],
  "metadata": {
    "kernelspec": {
      "display_name": "Python 3",
      "language": "python",
      "name": "python3"
    },
    "language_info": {
      "codemirror_mode": {
        "name": "ipython",
        "version": 3
      },
      "file_extension": ".py",
      "mimetype": "text/x-python",
      "name": "python",
      "nbconvert_exporter": "python",
      "pygments_lexer": "ipython3",
      "version": "3.10.6"
    }
  },
  "nbformat": 4,
  "nbformat_minor": 0
}